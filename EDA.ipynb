{
 "cells": [
  {
   "cell_type": "markdown",
   "id": "af15d399",
   "metadata": {},
   "source": [
    "# Exploratory Data Analysis\n",
    "This notebook is used for exploring the hotdog/nothotdog image dataset."
   ]
  },
  {
   "cell_type": "code",
   "execution_count": 2,
   "id": "88292b5e",
   "metadata": {},
   "outputs": [],
   "source": [
    "import os\n",
    "import glob\n",
    "import PIL.Image as Image\n",
    "\n",
    "import torch\n",
    "import torchvision.transforms as transforms\n",
    "from torch.utils.data import DataLoader\n",
    "from tqdm import tqdm "
   ]
  },
  {
   "cell_type": "markdown",
   "id": "c554b1bf",
   "metadata": {},
   "source": [
    "Provided class to load the data."
   ]
  },
  {
   "cell_type": "code",
   "execution_count": 3,
   "id": "87ef7f32",
   "metadata": {},
   "outputs": [],
   "source": [
    "class Hotdog_NotHotdog(torch.utils.data.Dataset):\n",
    "    def __init__(self, train=True, transform=None, data_path='hotdog_nothotdog', processor=None):\n",
    "        self.transform = transform\n",
    "        self.processor = processor\n",
    "        data_path = os.path.join(data_path, 'train' if train else 'test')\n",
    "        \n",
    "        # Get class names\n",
    "        image_classes = [os.path.split(d)[1] for d in glob.glob(data_path + '/*') if os.path.isdir(d)]\n",
    "        image_classes.sort()\n",
    "        self.name_to_label = {c: idx for idx, c in enumerate(image_classes)}\n",
    "        \n",
    "        # Get image paths\n",
    "        self.image_paths = glob.glob(data_path + '/*/*.jpg')\n",
    "\n",
    "    def __len__(self):\n",
    "        return len(self.image_paths)\n",
    "\n",
    "    def __getitem__(self, idx):\n",
    "        image_path = self.image_paths[idx]\n",
    "        image = Image.open(image_path).convert(\"RGB\")\n",
    "        \n",
    "        # Apply transforms\n",
    "        if self.transform:\n",
    "            image = self.transform(image)\n",
    "        \n",
    "        # Apply processor normalization if given\n",
    "        if self.processor:\n",
    "            # processor expects PIL Image, but we already applied transforms.\n",
    "            # If using transforms.ToTensor(), you can manually normalize\n",
    "            # Here, we convert to a tensor and normalize\n",
    "            image = self.processor(image, return_tensors=\"pt\")[\"pixel_values\"].squeeze(0)\n",
    "\n",
    "        # Get label\n",
    "        class_name = os.path.split(os.path.split(image_path)[0])[1]\n",
    "        label = self.name_to_label[class_name]\n",
    "\n",
    "        return {\"pixel_values\": image, \"labels\": label}"
   ]
  },
  {
   "cell_type": "markdown",
   "id": "d96ebe56",
   "metadata": {},
   "source": [
    "Loading the data. Transforming the image to tensors but applying no resizing, thus keeping the original dimensions of the images."
   ]
  },
  {
   "cell_type": "code",
   "execution_count": 4,
   "id": "b185dd5e",
   "metadata": {},
   "outputs": [],
   "source": [
    "size = 224\n",
    "\n",
    "# resizing, cropping, and flipping\n",
    "train_transform = transforms.Compose([\n",
    "    transforms.ToTensor(),\n",
    "])\n",
    "\n",
    "test_transform = transforms.Compose([                      \n",
    "    transforms.ToTensor(),                 \n",
    "])\n",
    "\n",
    "batch_size = 64\n",
    "trainset = Hotdog_NotHotdog(train=True, transform=train_transform, data_path='hotdog_nothotdog')\n",
    "train_loader = DataLoader(trainset, batch_size=batch_size, shuffle=True, num_workers=0)\n",
    "testset = Hotdog_NotHotdog(train=False, transform=test_transform, data_path='hotdog_nothotdog')\n",
    "test_loader = DataLoader(testset, batch_size=batch_size, shuffle=False, num_workers=0)"
   ]
  },
  {
   "cell_type": "code",
   "execution_count": 5,
   "id": "2386c253",
   "metadata": {},
   "outputs": [
    {
     "name": "stderr",
     "output_type": "stream",
     "text": [
      "100%|██████████| 2047/2047 [00:08<00:00, 245.23it/s]\n",
      "100%|██████████| 2047/2047 [00:08<00:00, 254.61it/s]"
     ]
    },
    {
     "name": "stdout",
     "output_type": "stream",
     "text": [
      "The smallest image has size 61 x 61\n",
      "The largest image has size 2100 x 3150\n"
     ]
    },
    {
     "name": "stderr",
     "output_type": "stream",
     "text": [
      "\n"
     ]
    }
   ],
   "source": [
    "n_train = len(trainset)\n",
    "n_test = len(testset)\n",
    "\n",
    "min_shape_x = 1000\n",
    "max_shape_x = 1\n",
    "min_shape_y = 1000\n",
    "max_shape_y = 1\n",
    "min_pixels = 1e20\n",
    "max_pixels = 1\n",
    "\n",
    "for i in tqdm(range(n_train)):\n",
    "    n_feat, x, y = trainset[i][\"pixel_values\"].shape\n",
    "    n_pixels = x*y \n",
    "\n",
    "    if n_pixels < min_pixels:\n",
    "        min_pixels = n_pixels \n",
    "        min_shape_x = x \n",
    "        min_shape_y = y \n",
    "    \n",
    "    if n_pixels > max_pixels:\n",
    "        max_pixels = n_pixels \n",
    "        max_shape_x = x \n",
    "        max_shape_y = y \n",
    "\n",
    "for i in tqdm(range(n_train)):\n",
    "    n_feat, x, y = trainset[i][\"pixel_values\"].shape\n",
    "    n_pixels = x*y \n",
    "\n",
    "    if n_pixels < min_pixels:\n",
    "        min_pixels = n_pixels \n",
    "        min_shape_x = x \n",
    "        min_shape_y = y \n",
    "    \n",
    "    if n_pixels > max_pixels:\n",
    "        max_pixels = n_pixels \n",
    "        max_shape_x = x \n",
    "        max_shape_y = y \n",
    "\n",
    "print(f\"The smallest image has size {min_shape_x} x {min_shape_y}\")\n",
    "print(f\"The largest image has size {max_shape_x} x {max_shape_y}\")"
   ]
  }
 ],
 "metadata": {
  "kernelspec": {
   "display_name": "LSDA",
   "language": "python",
   "name": "python3"
  },
  "language_info": {
   "codemirror_mode": {
    "name": "ipython",
    "version": 3
   },
   "file_extension": ".py",
   "mimetype": "text/x-python",
   "name": "python",
   "nbconvert_exporter": "python",
   "pygments_lexer": "ipython3",
   "version": "3.11.9"
  }
 },
 "nbformat": 4,
 "nbformat_minor": 5
}
